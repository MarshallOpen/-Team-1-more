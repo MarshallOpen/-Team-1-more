{
 "cells": [
  {
   "cell_type": "markdown",
   "metadata": {},
   "source": [
    "导入需要的库"
   ]
  },
  {
   "cell_type": "code",
   "execution_count": 2,
   "metadata": {},
   "outputs": [],
   "source": [
    "from sklearn import datasets\n",
    "import numpy as np"
   ]
  },
  {
   "cell_type": "code",
   "execution_count": 3,
   "metadata": {},
   "outputs": [],
   "source": [
    "iris = datasets.load_iris()\n",
    "x = iris.data\n",
    "y = iris.target"
   ]
  },
  {
   "cell_type": "code",
   "execution_count": 4,
   "metadata": {},
   "outputs": [],
   "source": [
    "x1 = np.array(x)"
   ]
  },
  {
   "cell_type": "markdown",
   "metadata": {},
   "source": [
    "将向量转化为图里的点，求数据间的相似度。"
   ]
  },
  {
   "cell_type": "code",
   "execution_count": 5,
   "metadata": {},
   "outputs": [],
   "source": [
    "#计算距离平方的矩阵，稍后使用返回的数据计算相似度的矩阵，使用欧氏距离\n",
    "def fill_dist_mat(data):\n",
    "    dist_mat = np.zeros((data.shape[0],data.shape[0]))\n",
    "    for i in range(data.shape[0]):\n",
    "        for j in range(data.shape[0]):\n",
    "            dist_mat[i][j] = np.square(cal_dist(data,i,j))\n",
    "    return dist_mat\n",
    "def cal_dist(data,i,j):\n",
    "    dist = np.sqrt(np.square(data[i][0]-data[j][0])+np.square(data[i][1]-data[j][1])+np.square(data[i][2]-data[j][2])+np.square(data[i][3]-data[j][3]))\n",
    "    return dist"
   ]
  },
  {
   "cell_type": "code",
   "execution_count": 6,
   "metadata": {},
   "outputs": [],
   "source": [
    "#得到相似度矩阵(W),可选是否归一化处理，阈值可自定，默认0.777\n",
    "def cal_weight_mat(dist_mat,gamma = 1/(np.sqrt(2)),zer01 = True,threshold = 0.777):\n",
    "    weight_mat = np.zeros((dist_mat.shape[0],dist_mat.shape[0]))\n",
    "    for i in range(dist_mat.shape[0]):\n",
    "        for j in range(dist_mat.shape[1]):\n",
    "            weight_mat[i][j] = (np.exp(-1*(dist_mat[i][j])/(2*(np.square(gamma)))))\n",
    "    if(zer01 == False):\n",
    "        return weight_mat\n",
    "    else:\n",
    "        for i in range(weight_mat.shape[0]):\n",
    "            for j in range(weight_mat.shape[1]):\n",
    "                if(weight_mat[i][j]>threshold):\n",
    "                    weight_mat[i][j] = 1\n",
    "                else:\n",
    "                    weight_mat[i][j] = 0\n",
    "    return weight_mat"
   ]
  },
  {
   "cell_type": "code",
   "execution_count": 7,
   "metadata": {},
   "outputs": [],
   "source": [
    "dist_mat = fill_dist_mat(x1)\n",
    "W = cal_weight_mat(dist_mat,zer01 = False)\n",
    "temp_W = cal_weight_mat(dist_mat,zer01 = True)"
   ]
  },
  {
   "cell_type": "code",
   "execution_count": 8,
   "metadata": {},
   "outputs": [],
   "source": [
    "#计算度矩阵（D），之后开始可视化相关工作,传入二值化的邻接矩阵\n",
    "def cal_Delta(weight_mat):\n",
    "    Delta = np.zeros((weight_mat.shape[0],weight_mat.shape[0]))\n",
    "    for i in range(weight_mat.shape[0]):\n",
    "        temp = 0\n",
    "        for j in range(weight_mat.shape[1]):\n",
    "            temp += weight_mat[i][j]\n",
    "            Delta[i][i] = temp\n",
    "    return Delta"
   ]
  },
  {
   "cell_type": "code",
   "execution_count": 9,
   "metadata": {},
   "outputs": [],
   "source": [
    "D = cal_Delta(temp_W)"
   ]
  },
  {
   "cell_type": "code",
   "execution_count": 10,
   "metadata": {},
   "outputs": [
    {
     "data": {
      "text/plain": [
       "array([[1.00000000e+00, 7.48263568e-01, 7.71051586e-01, ...,\n",
       "        2.30082059e-09, 4.03840951e-10, 3.59908895e-08],\n",
       "       [7.48263568e-01, 1.00000000e+00, 9.13931185e-01, ...,\n",
       "        1.62136087e-09, 2.15082380e-10, 3.22418674e-08],\n",
       "       [7.71051586e-01, 9.13931185e-01, 1.00000000e+00, ...,\n",
       "        3.65410404e-10, 6.16221335e-11, 9.42405852e-09],\n",
       "       ...,\n",
       "       [2.30082059e-09, 1.62136087e-09, 3.65410404e-10, ...,\n",
       "        1.00000000e+00, 6.83861409e-01, 6.63650250e-01],\n",
       "       [4.03840951e-10, 2.15082380e-10, 6.16221335e-11, ...,\n",
       "        6.83861409e-01, 1.00000000e+00, 5.54327285e-01],\n",
       "       [3.59908895e-08, 3.22418674e-08, 9.42405852e-09, ...,\n",
       "        6.63650250e-01, 5.54327285e-01, 1.00000000e+00]])"
      ]
     },
     "execution_count": 10,
     "metadata": {},
     "output_type": "execute_result"
    }
   ],
   "source": [
    "#打印带权邻接矩阵\n",
    "W"
   ]
  },
  {
   "cell_type": "code",
   "execution_count": 23,
   "metadata": {},
   "outputs": [
    {
     "data": {
      "image/png": "[encoded data removed]",
      "text/plain": [
       "<matplotlib.figure.Figure at 0x1f7ec4a0518>"
      ]
     },
     "metadata": {
      "needs_background": "light"
     },
     "output_type": "display_data"
    }
   ],
   "source": [
    "#将鸢尾花数据集画成图\n",
    "import networkx as nx\n",
    "import matplotlib.pyplot as plt \n",
    "\n",
    "for i in range(len(y)):\n",
    "    if y[i] == 0:\n",
    "        plt.scatter(x[i,0], x[i,1],c=\"w\", edgecolors='b')\n",
    "    elif y[i] == 1:\n",
    "        plt.scatter(x[i,0], x[i,1], c=\"w\", edgecolors='r')\n",
    "    else:\n",
    "        plt.scatter(x[i,0], x[i,1], c=\"w\", edgecolors='g')"
   ]
  },
  {
   "cell_type": "code",
   "execution_count": 32,
   "metadata": {},
   "outputs": [],
   "source": [
    "#谱聚类\n",
    "from sklearn.cluster import KMeans\n",
    "def fit(W,D):\n",
    "    L = W - D                    #拉普拉斯矩阵\n",
    "    w,v = np.linalg.eig(L)\n",
    "    v = np.transpose(v)          #谱聚类是将特征向量组成的矩阵按行输入，所以转置\n",
    "    #Kmeans得到簇\n",
    "    km = KMeans(n_clusters=3,random_state=2)\n",
    "    y = km.fit(v).labels_\n",
    "    return y"
   ]
  },
  {
   "cell_type": "code",
   "execution_count": 33,
   "metadata": {
    "scrolled": true
   },
   "outputs": [
    {
     "name": "stdout",
     "output_type": "stream",
     "text": [
      "0.36\n"
     ]
    }
   ],
   "source": [
    "#正确率\n",
    "from sklearn.metrics import accuracy_score\n",
    "pred_y = fit(W,D)\n",
    "acc = accuracy_score(y,pred_y)\n",
    "print(acc)"
   ]
  },
  {
   "cell_type": "markdown",
   "metadata": {},
   "source": [
    "分析：矩阵中向量的预处理方法存在问题，没有尝试更多的方法。"
   ]
  }
 ],
 "metadata": {
  "kernelspec": {
   "display_name": "Python 3",
   "language": "python",
   "name": "python3"
  },
  "language_info": {
   "codemirror_mode": {
    "name": "ipython",
    "version": 3
   },
   "file_extension": ".py",
   "mimetype": "text/x-python",
   "name": "python",
   "nbconvert_exporter": "python",
   "pygments_lexer": "ipython3",
   "version": "3.6.4"
  }
 },
 "nbformat": 4,
 "nbformat_minor": 2
}
